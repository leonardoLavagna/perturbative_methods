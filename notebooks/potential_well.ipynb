{
  "nbformat": 4,
  "nbformat_minor": 0,
  "metadata": {
    "colab": {
      "provenance": []
    },
    "kernelspec": {
      "name": "python3",
      "display_name": "Python 3"
    },
    "language_info": {
      "name": "python"
    }
  },
  "cells": [
    {
      "cell_type": "markdown",
      "source": [
        "# notebooks.potential_well"
      ],
      "metadata": {
        "id": "vMhzETAOhDn2"
      }
    },
    {
      "cell_type": "markdown",
      "source": [
        "In this notebook the one-dimensional potential well problem and its perturbations is solved."
      ],
      "metadata": {
        "id": "Mhpk1GCXlDVv"
      }
    },
    {
      "cell_type": "markdown",
      "source": [
        "## Setup"
      ],
      "metadata": {
        "id": "hNFCkJymiAIO"
      }
    },
    {
      "cell_type": "code",
      "source": [
        "from utilities.perturbed_potential_well_utilities import *\n",
        "from utilities.unperturbed_potential_well_utilities import *\n",
        "from config import *"
      ],
      "metadata": {
        "id": "Piuc6DjqhLnS"
      },
      "execution_count": null,
      "outputs": []
    },
    {
      "cell_type": "code",
      "source": [
        "from matplotlib import pyplot as plt\n",
        "from matplotlib.animation import FuncAnimation\n",
        "from IPython.display import HTML\n",
        "from ipywidgets import interact"
      ],
      "metadata": {
        "id": "eRLMtDGqhNxe"
      },
      "execution_count": null,
      "outputs": []
    },
    {
      "cell_type": "code",
      "source": [
        "def init():\n",
        "    line_real.set_data([], [])\n",
        "    line_prob.set_data([], [])\n",
        "    return line_real, line_prob\n",
        "\n",
        "def animate(i):\n",
        "    t_val = t[i]\n",
        "    psi = Psi(n, x, L, t_val)\n",
        "    psi_real = np.real(psi)\n",
        "    psi_squared = np.abs(psi)**2\n",
        "    line_real.set_data(x, psi_real)\n",
        "    line_prob.set_data(x, psi_squared)\n",
        "    return line_real, line_prob\n",
        "\n",
        "def animate_mixed(i):\n",
        "    t_val = t[i]\n",
        "    psi = Psi_mixed(x, t_val, L, coeffs, n_states)\n",
        "    psi_real = np.real(psi)\n",
        "    psi_squared = np.abs(psi)**2\n",
        "    line_real.set_data(x, psi_real)\n",
        "    line_prob.set_data(x, psi_squared)\n",
        "    return line_real, line_prob\n",
        "\n",
        "def plot_energy_and_wavefunctions(L=1.0, epsilon=0.1, n=1):\n",
        "    x = np.linspace(0, L, 200)\n",
        "    E0, E1, E2, psi_0, psi_1, psi_2, psi_total = energy_and_wavefunctions_corrections(x, L=L, epsilon=epsilon, n=n)\n",
        "    fig, axes = plt.subplots(1, 2, figsize=(14, 6))\n",
        "    #Left panel\n",
        "    axes[0].hlines(E0, 0.5, 1.5, color='blue', label='Unperturbed $E_n^{(0)}$')\n",
        "    axes[0].hlines(E0 + E1, 1.5, 2.5, color='orange', label='1st Order $E_n^{(0)} + E_n^{(1)}$')\n",
        "    axes[0].hlines(E0 + E1 + E2, 2.5, 3.5, color='green', label='2nd Order $E_n^{(0)} + E_n^{(1)} + E_n^{(2)}$')\n",
        "    axes[0].set_title('Energy Levels')\n",
        "    axes[0].set_xticks([])\n",
        "    axes[0].set_ylabel('Energy')\n",
        "    axes[0].legend()\n",
        "    axes[0].grid(True)\n",
        "    #Right panel\n",
        "    axes[1].plot(x, psi_0, label='Unperturbed $\\psi_n^{(0)}(x)$', color='blue')\n",
        "    axes[1].plot(x, psi_0 + psi_1, label='1st Order $\\psi_n^{(0)}(x) + \\psi_n^{(1)}(x)$', color='orange')\n",
        "    axes[1].plot(x, psi_total, label='2nd Order $\\psi_n^{(0)}(x) + \\psi_n^{(1)}(x) + \\psi_n^{(2)}(x)$', color='green')\n",
        "    axes[1].set_title('Wavefunctions')\n",
        "    axes[1].set_xlabel('Position $x$')\n",
        "    axes[1].set_ylabel('Wavefunction $\\psi(x)$')\n",
        "    axes[1].legend()\n",
        "    axes[1].grid(True)\n",
        "    plt.tight_layout()\n",
        "    plt.show()"
      ],
      "metadata": {
        "id": "mNhUR4iLhPAO"
      },
      "execution_count": null,
      "outputs": []
    },
    {
      "cell_type": "markdown",
      "source": [
        "## Stationary states"
      ],
      "metadata": {
        "id": "7t9vkWFgiDsU"
      }
    },
    {
      "cell_type": "code",
      "source": [
        "fig, (ax1, ax2) = plt.subplots(1, 2, figsize=(11, 8))\n",
        "ax1.set_xlim(0, L)\n",
        "ax1.set_ylim(-2, 2)\n",
        "ax2.set_xlim(0, L)\n",
        "ax2.set_ylim(0, 4)\n",
        "ax1.set_xlabel('Position (x)', fontsize=14)\n",
        "ax1.set_ylabel(r'Re[$\\psi(x,t)$]', fontsize=14)\n",
        "ax1.set_title('Evolution', fontsize=16)\n",
        "ax2.set_xlabel('Position (x)', fontsize=14)\n",
        "ax2.set_ylabel(r'$|\\psi(x,t)|^2$', fontsize=14)\n",
        "ax2.set_title('Probability Density', fontsize=16)\n",
        "line_real, = ax1.plot([], [], lw=2)\n",
        "line_prob, = ax2.plot([], [], lw=2)\n",
        "ani = FuncAnimation(fig, animate, init_func=init, frames=len(t), interval=150, blit=True)\n",
        "plt.close(fig)\n",
        "HTML(ani.to_jshtml())"
      ],
      "metadata": {
        "id": "04S6llKWhYZY"
      },
      "execution_count": null,
      "outputs": []
    },
    {
      "cell_type": "markdown",
      "source": [
        "## Mixed states"
      ],
      "metadata": {
        "id": "aF_Hh2LeiGvq"
      }
    },
    {
      "cell_type": "code",
      "source": [
        "fig, (ax1, ax2) = plt.subplots(1, 2, figsize=(11, 8))\n",
        "ax1.set_xlim(0, L)\n",
        "ax1.set_ylim(-2, 2)\n",
        "ax2.set_xlim(0, L)\n",
        "ax2.set_ylim(0, 4)\n",
        "ax1.set_xlabel('Position (x)', fontsize=14)\n",
        "ax1.set_ylabel(r'Re[$\\psi(x,t)$]', fontsize=14)\n",
        "ax1.set_title('Evolution', fontsize=16)\n",
        "ax2.set_xlabel('Position (x)', fontsize=14)\n",
        "ax2.set_ylabel(r'$|\\psi(x,t)|^2$', fontsize=14)\n",
        "ax2.set_title('Probability Density', fontsize=16)\n",
        "line_real, = ax1.plot([], [], lw=2)\n",
        "line_prob, = ax2.plot([], [], lw=2)\n",
        "ani_mixed = FuncAnimation(fig, animate_mixed, init_func=init, frames=len(t), interval=150, blit=True)\n",
        "plt.close(fig)\n",
        "HTML(ani_mixed.to_jshtml())"
      ],
      "metadata": {
        "id": "tFXCNd9nhgTv"
      },
      "execution_count": null,
      "outputs": []
    },
    {
      "cell_type": "markdown",
      "source": [
        "## Perturbed energies and wavefunctions"
      ],
      "metadata": {
        "id": "ZB6XXid3iIUJ"
      }
    },
    {
      "cell_type": "code",
      "source": [
        "interact(plot_energy_and_wavefunctions, epsilon=(0, 25, 1), n=(1, 5, 1))"
      ],
      "metadata": {
        "id": "keN-Rtkxh6HG"
      },
      "execution_count": null,
      "outputs": []
    }
  ]
}